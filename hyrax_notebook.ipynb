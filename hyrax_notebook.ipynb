{
 "cells": [
  {
   "cell_type": "code",
   "execution_count": 1,
   "id": "70c0461c",
   "metadata": {},
   "outputs": [],
   "source": [
    "import hyrax\n",
    "from astropy.io import fits\n",
    "import pprint"
   ]
  },
  {
   "cell_type": "code",
   "execution_count": 2,
   "id": "f83c83cc",
   "metadata": {},
   "outputs": [
    {
     "name": "stderr",
     "output_type": "stream",
     "text": [
      "[2025-07-09 18:00:25,296 hyrax:INFO] Runtime Config read from: /Users/diegomiura/anaconda3/envs/hyrax/lib/python3.12/site-packages/hyrax/hyrax_default_config.toml\n",
      "[2025-07-09 18:00:29,280 hyrax.data_sets.fits_image_dataset:INFO] FitsImageDataSet has 5 objects\n",
      "[2025-07-09 18:00:29,281 hyrax.data_sets.fits_image_dataset:INFO] Preloading FitsImageDataSet cache...\n",
      "[2025-07-09 18:00:29,281 hyrax.prepare:INFO] Finished Prepare\n",
      "[2025-07-09 18:00:29,283 hyrax.data_sets.fits_image_dataset:INFO] Processed 4 objects\n"
     ]
    }
   ],
   "source": [
    "h = hyrax.Hyrax()\n",
    "h.config[\"data_set\"][\"name\"] = \"FitsImageDataSet\"\n",
    "h.config[\"general\"][\"data_dir\"] = \"stuff/split_images\"\n",
    "\n",
    "# Location of your catalog file. Any file format supported by astropy.Table will work\n",
    "h.config[\"data_set\"][\"filter_catalog\"] = \"stuff/catalog.fits\"\n",
    "\n",
    "# Size in pixels to send to ML model. All images must be this size or larger on\n",
    "# both dimensions\n",
    "h.config[\"data_set\"][\"crop_to\"] = (50,50)\n",
    "\n",
    "# This is good to simply attempt to construct the dataset. Once things are working you might try\n",
    "# to train or infer\n",
    "dataset = h.prepare()"
   ]
  },
  {
   "cell_type": "code",
   "execution_count": 3,
   "id": "4c279a01",
   "metadata": {},
   "outputs": [
    {
     "name": "stdout",
     "output_type": "stream",
     "text": [
      "Filename: stuff/split_images/72_3_Z_v2_hsc_realistic.fits\n",
      "No.    Name      Ver    Type      Cards   Dimensions   Format\n",
      "  0  SUBARU_HSC.Z    1 PrimaryHDU      41   (53, 53)   float64   \n"
     ]
    }
   ],
   "source": [
    "test_image = fits.open('stuff/split_images/72_3_Z_v2_hsc_realistic.fits')\n",
    "test_image.info()"
   ]
  },
  {
   "cell_type": "code",
   "execution_count": 4,
   "id": "3452c07e",
   "metadata": {},
   "outputs": [
    {
     "name": "stdout",
     "output_type": "stream",
     "text": [
      "File: stuff/split_images/72_1_Z_v2_hsc_realistic.fits ------------- (411, 411)\n",
      "\n",
      "\n",
      "File: stuff/split_images/72_0_Y_v2_hsc_realistic.fits ------------- (537, 537)\n",
      "\n",
      "\n",
      "File: stuff/split_images/72_1_R_v2_hsc_realistic.fits ------------- (411, 411)\n",
      "\n",
      "\n",
      "File: stuff/split_images/72_1_I_v2_hsc_realistic.fits ------------- (411, 411)\n",
      "\n",
      "\n",
      "File: stuff/split_images/72_4_Y_v2_hsc_realistic.fits ------------- (178, 178)\n",
      "\n",
      "\n",
      "File: stuff/split_images/72_2_G_v2_hsc_realistic.fits ------------- (195, 195)\n",
      "\n",
      "\n",
      "File: stuff/split_images/72_1_G_v2_hsc_realistic.fits ------------- (411, 411)\n",
      "\n",
      "\n",
      "File: stuff/split_images/72_2_I_v2_hsc_realistic.fits ------------- (195, 195)\n",
      "\n",
      "\n",
      "File: stuff/split_images/72_2_R_v2_hsc_realistic.fits ------------- (195, 195)\n",
      "\n",
      "\n",
      "File: stuff/split_images/72_3_Y_v2_hsc_realistic.fits ------------- (53, 53)\n",
      "\n",
      "\n",
      "File: stuff/split_images/72_2_Z_v2_hsc_realistic.fits ------------- (195, 195)\n",
      "\n",
      "\n",
      "File: stuff/split_images/72_3_G_v2_hsc_realistic.fits ------------- (53, 53)\n",
      "\n",
      "\n",
      "File: stuff/split_images/72_4_R_v2_hsc_realistic.fits ------------- (178, 178)\n",
      "\n",
      "\n",
      "File: stuff/split_images/72_4_Z_v2_hsc_realistic.fits ------------- (178, 178)\n",
      "\n",
      "\n",
      "File: stuff/split_images/72_0_I_v2_hsc_realistic.fits ------------- (537, 537)\n",
      "\n",
      "\n",
      "File: stuff/split_images/72_0_R_v2_hsc_realistic.fits ------------- (537, 537)\n",
      "\n",
      "\n",
      "File: stuff/split_images/72_4_I_v2_hsc_realistic.fits ------------- (178, 178)\n",
      "\n",
      "\n",
      "File: stuff/split_images/72_1_Y_v2_hsc_realistic.fits ------------- (411, 411)\n",
      "\n",
      "\n",
      "File: stuff/split_images/72_0_Z_v2_hsc_realistic.fits ------------- (537, 537)\n",
      "\n",
      "\n",
      "File: stuff/split_images/72_3_Z_v2_hsc_realistic.fits ------------- (53, 53)\n",
      "\n",
      "\n",
      "File: stuff/split_images/72_2_Y_v2_hsc_realistic.fits ------------- (195, 195)\n",
      "\n",
      "\n",
      "File: stuff/split_images/72_4_G_v2_hsc_realistic.fits ------------- (178, 178)\n",
      "\n",
      "\n",
      "File: stuff/split_images/72_3_R_v2_hsc_realistic.fits ------------- (53, 53)\n",
      "\n",
      "\n",
      "File: stuff/split_images/72_3_I_v2_hsc_realistic.fits ------------- (53, 53)\n",
      "\n",
      "\n",
      "File: stuff/split_images/72_0_G_v2_hsc_realistic.fits ------------- (537, 537)\n",
      "\n",
      "\n"
     ]
    }
   ],
   "source": [
    "import os\n",
    "\n",
    "for file in os.listdir('stuff/split_images'):\n",
    "    file_path = os.path.join('stuff/split_images', file)\n",
    "    if file_path.endswith('.fits'):\n",
    "        with fits.open(file_path) as hdul:\n",
    "            print(f'File: {file_path} ------------- {hdul[0].data.shape}')\n",
    "            #pprint.pprint(hdul.info())\n",
    "            # print('Header:')\n",
    "            # pprint.pprint(hdul[0].header)\n",
    "            # print('Data shape:', hdul[0].data.shape)\n",
    "            print('\\n')"
   ]
  },
  {
   "cell_type": "code",
   "execution_count": null,
   "id": "14f2ea5d",
   "metadata": {},
   "outputs": [],
   "source": []
  }
 ],
 "metadata": {
  "kernelspec": {
   "display_name": "hyrax",
   "language": "python",
   "name": "python3"
  },
  "language_info": {
   "codemirror_mode": {
    "name": "ipython",
    "version": 3
   },
   "file_extension": ".py",
   "mimetype": "text/x-python",
   "name": "python",
   "nbconvert_exporter": "python",
   "pygments_lexer": "ipython3",
   "version": "3.12.9"
  }
 },
 "nbformat": 4,
 "nbformat_minor": 5
}
