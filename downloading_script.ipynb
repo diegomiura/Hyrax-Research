{
 "cells": [
  {
   "cell_type": "code",
   "execution_count": 76,
   "id": "b2f24bba",
   "metadata": {},
   "outputs": [],
   "source": [
    "import os\n",
    "import time\n",
    "import random\n",
    "import requests\n",
    "from concurrent.futures import ThreadPoolExecutor, as_completed\n",
    "from tqdm import tqdm\n",
    "import pprint\n",
    "\n",
    "API_KEY = \"3849226db021fa31e0fd58651b7c943f\"\n",
    "#BASE_API_URL = \"http://www.tng-project.org/api/TNG50-1/files/skirt_images_hsc_realistic/\"\n",
    "BASE_API_URL = \"https://www.tng-project.org/\"\n",
    "HEADERS = {\"api-key\": API_KEY}\n",
    "DOWNLOAD_DIR = \"skirt_realistic\"\n",
    "MAX_WORKERS = 24  # Adjust for your HPC environment\n",
    "MAX_RETRIES = 3\n",
    "\n",
    "os.makedirs(DOWNLOAD_DIR, exist_ok=True)\n",
    "\n",
    "def get_endpoint(url):\n",
    "\n",
    "    r = requests.get(url, headers=HEADERS)\n",
    "    \n",
    "    r.raise_for_status()\n",
    "\n",
    "    return r.json()"
   ]
  },
  {
   "cell_type": "code",
   "execution_count": 77,
   "id": "99b82272",
   "metadata": {},
   "outputs": [],
   "source": [
    "snapshot_urls = get_endpoint(url = BASE_API_URL + '/api/TNG50-1/files/skirt_images_hsc/')"
   ]
  },
  {
   "cell_type": "code",
   "execution_count": 78,
   "id": "90d7d82d",
   "metadata": {},
   "outputs": [],
   "source": [
    "filtered_snapshot_urls = []\n",
    "\n",
    "for url in snapshot_urls:\n",
    "    if \"_realistic_v2_72\" in url:\n",
    "        filtered_snapshot_urls.append(url)"
   ]
  },
  {
   "cell_type": "code",
   "execution_count": 79,
   "id": "1ce861ff",
   "metadata": {},
   "outputs": [
    {
     "data": {
      "text/plain": [
       "['http://www.tng-project.org/api/TNG50-1/files/skirt_images_hsc_realistic_v2_72/']"
      ]
     },
     "execution_count": 79,
     "metadata": {},
     "output_type": "execute_result"
    }
   ],
   "source": [
    "filtered_snapshot_urls"
   ]
  },
  {
   "cell_type": "code",
   "execution_count": 80,
   "id": "2646cf57",
   "metadata": {},
   "outputs": [],
   "source": [
    "all_file_urls = []\n",
    "\n",
    "for url in filtered_snapshot_urls[0:1]:\n",
    "    file_urls = get_endpoint(url)['files']\n",
    "    all_file_urls += file_urls"
   ]
  },
  {
   "cell_type": "code",
   "execution_count": 81,
   "id": "aafdd3e7",
   "metadata": {},
   "outputs": [],
   "source": [
    "with open(\"all_file_urls.txt\", \"w\") as f:\n",
    "    for url in all_file_urls:\n",
    "        f.write(url + \"\\n\")"
   ]
  },
  {
   "cell_type": "code",
   "execution_count": 83,
   "id": "28e6546f",
   "metadata": {},
   "outputs": [
    {
     "name": "stdout",
     "output_type": "stream",
     "text": [
      "Downloading 5_skirt_images_hsc_realistic_v2.fits...\n",
      "✅ Saved: 5_skirt_images_hsc_realistic_v2.fits\n",
      "Downloading 6_skirt_images_hsc_realistic_v2.fits...\n",
      "✅ Saved: 6_skirt_images_hsc_realistic_v2.fits\n",
      "Downloading 7_skirt_images_hsc_realistic_v2.fits...\n",
      "✅ Saved: 7_skirt_images_hsc_realistic_v2.fits\n",
      "Downloading 8_skirt_images_hsc_realistic_v2.fits...\n",
      "✅ Saved: 8_skirt_images_hsc_realistic_v2.fits\n",
      "Downloading 9_skirt_images_hsc_realistic_v2.fits...\n",
      "✅ Saved: 9_skirt_images_hsc_realistic_v2.fits\n",
      "Downloading 10_skirt_images_hsc_realistic_v2.fits...\n",
      "✅ Saved: 10_skirt_images_hsc_realistic_v2.fits\n",
      "Downloading 11_skirt_images_hsc_realistic_v2.fits...\n",
      "✅ Saved: 11_skirt_images_hsc_realistic_v2.fits\n",
      "Downloading 12_skirt_images_hsc_realistic_v2.fits...\n",
      "✅ Saved: 12_skirt_images_hsc_realistic_v2.fits\n",
      "Downloading 13_skirt_images_hsc_realistic_v2.fits...\n",
      "✅ Saved: 13_skirt_images_hsc_realistic_v2.fits\n",
      "Downloading 14_skirt_images_hsc_realistic_v2.fits...\n",
      "✅ Saved: 14_skirt_images_hsc_realistic_v2.fits\n",
      "Downloading 15_skirt_images_hsc_realistic_v2.fits...\n",
      "✅ Saved: 15_skirt_images_hsc_realistic_v2.fits\n",
      "Downloading 16_skirt_images_hsc_realistic_v2.fits...\n",
      "✅ Saved: 16_skirt_images_hsc_realistic_v2.fits\n",
      "Downloading 17_skirt_images_hsc_realistic_v2.fits...\n",
      "✅ Saved: 17_skirt_images_hsc_realistic_v2.fits\n",
      "Downloading 18_skirt_images_hsc_realistic_v2.fits...\n",
      "✅ Saved: 18_skirt_images_hsc_realistic_v2.fits\n",
      "Downloading 19_skirt_images_hsc_realistic_v2.fits...\n",
      "✅ Saved: 19_skirt_images_hsc_realistic_v2.fits\n",
      "Downloading 20_skirt_images_hsc_realistic_v2.fits...\n",
      "✅ Saved: 20_skirt_images_hsc_realistic_v2.fits\n",
      "Downloading 21_skirt_images_hsc_realistic_v2.fits...\n",
      "✅ Saved: 21_skirt_images_hsc_realistic_v2.fits\n",
      "Downloading 22_skirt_images_hsc_realistic_v2.fits...\n",
      "✅ Saved: 22_skirt_images_hsc_realistic_v2.fits\n",
      "Downloading 23_skirt_images_hsc_realistic_v2.fits...\n",
      "✅ Saved: 23_skirt_images_hsc_realistic_v2.fits\n",
      "Downloading 27_skirt_images_hsc_realistic_v2.fits...\n",
      "✅ Saved: 27_skirt_images_hsc_realistic_v2.fits\n",
      "Downloading 28_skirt_images_hsc_realistic_v2.fits...\n",
      "✅ Saved: 28_skirt_images_hsc_realistic_v2.fits\n",
      "Downloading 30_skirt_images_hsc_realistic_v2.fits...\n",
      "✅ Saved: 30_skirt_images_hsc_realistic_v2.fits\n",
      "Downloading 31_skirt_images_hsc_realistic_v2.fits...\n",
      "✅ Saved: 31_skirt_images_hsc_realistic_v2.fits\n",
      "Downloading 32_skirt_images_hsc_realistic_v2.fits...\n",
      "✅ Saved: 32_skirt_images_hsc_realistic_v2.fits\n",
      "Downloading 33_skirt_images_hsc_realistic_v2.fits...\n",
      "✅ Saved: 33_skirt_images_hsc_realistic_v2.fits\n",
      "Downloading 34_skirt_images_hsc_realistic_v2.fits...\n",
      "✅ Saved: 34_skirt_images_hsc_realistic_v2.fits\n",
      "Downloading 35_skirt_images_hsc_realistic_v2.fits...\n",
      "✅ Saved: 35_skirt_images_hsc_realistic_v2.fits\n",
      "Downloading 37_skirt_images_hsc_realistic_v2.fits...\n",
      "✅ Saved: 37_skirt_images_hsc_realistic_v2.fits\n",
      "Downloading 38_skirt_images_hsc_realistic_v2.fits...\n",
      "✅ Saved: 38_skirt_images_hsc_realistic_v2.fits\n",
      "Downloading 39_skirt_images_hsc_realistic_v2.fits...\n",
      "✅ Saved: 39_skirt_images_hsc_realistic_v2.fits\n",
      "Downloading 41_skirt_images_hsc_realistic_v2.fits...\n",
      "✅ Saved: 41_skirt_images_hsc_realistic_v2.fits\n",
      "Downloading 42_skirt_images_hsc_realistic_v2.fits...\n",
      "✅ Saved: 42_skirt_images_hsc_realistic_v2.fits\n",
      "Downloading 43_skirt_images_hsc_realistic_v2.fits...\n",
      "✅ Saved: 43_skirt_images_hsc_realistic_v2.fits\n",
      "Downloading 44_skirt_images_hsc_realistic_v2.fits...\n",
      "✅ Saved: 44_skirt_images_hsc_realistic_v2.fits\n",
      "Downloading 45_skirt_images_hsc_realistic_v2.fits...\n",
      "✅ Saved: 45_skirt_images_hsc_realistic_v2.fits\n",
      "Downloading 46_skirt_images_hsc_realistic_v2.fits...\n",
      "✅ Saved: 46_skirt_images_hsc_realistic_v2.fits\n",
      "Downloading 47_skirt_images_hsc_realistic_v2.fits...\n",
      "✅ Saved: 47_skirt_images_hsc_realistic_v2.fits\n",
      "Downloading 48_skirt_images_hsc_realistic_v2.fits...\n",
      "✅ Saved: 48_skirt_images_hsc_realistic_v2.fits\n",
      "Downloading 49_skirt_images_hsc_realistic_v2.fits...\n",
      "✅ Saved: 49_skirt_images_hsc_realistic_v2.fits\n",
      "Downloading 50_skirt_images_hsc_realistic_v2.fits...\n",
      "✅ Saved: 50_skirt_images_hsc_realistic_v2.fits\n",
      "Downloading 51_skirt_images_hsc_realistic_v2.fits...\n",
      "✅ Saved: 51_skirt_images_hsc_realistic_v2.fits\n",
      "Downloading 52_skirt_images_hsc_realistic_v2.fits...\n",
      "✅ Saved: 52_skirt_images_hsc_realistic_v2.fits\n",
      "Downloading 53_skirt_images_hsc_realistic_v2.fits...\n",
      "✅ Saved: 53_skirt_images_hsc_realistic_v2.fits\n",
      "Downloading 54_skirt_images_hsc_realistic_v2.fits...\n",
      "✅ Saved: 54_skirt_images_hsc_realistic_v2.fits\n",
      "Downloading 55_skirt_images_hsc_realistic_v2.fits...\n",
      "✅ Saved: 55_skirt_images_hsc_realistic_v2.fits\n",
      "Done!\n"
     ]
    }
   ],
   "source": [
    "# Parameters\n",
    "batch_start = 5    # change this to download a different batch\n",
    "batch_size = 45     # how many files to download at a time\n",
    "\n",
    "# Load URLs\n",
    "with open(\"all_file_urls.txt\", \"r\") as f:\n",
    "    urls = [line.strip() for line in f if line.strip()]\n",
    "\n",
    "# Select the batch\n",
    "batch = urls[batch_start:batch_start + batch_size]\n",
    "\n",
    "# Download files\n",
    "for url in batch:\n",
    "    filename = url.split(\"/\")[-3] + \"_\" + url.split(\"/\")[-1]  # e.g. subhaloID_skirt_images_hsc_realistic_v2.fits\n",
    "    print(f\"Downloading {filename}...\")\n",
    "\n",
    "    headers = {\"API-Key\": API_KEY}\n",
    "    try:\n",
    "        r = requests.get(url, headers=headers, stream=True)\n",
    "        r.raise_for_status()\n",
    "        with open(filename, \"wb\") as f:\n",
    "            for chunk in r.iter_content(chunk_size=8192):\n",
    "                f.write(chunk)\n",
    "        print(f\"✅ Saved: {filename}\")\n",
    "    except Exception as e:\n",
    "        print(f\"❌ Failed to download {url}: {e}\")\n",
    "\n",
    "    time.sleep(1)  # be polite to the server\n",
    "\n",
    "print(\"Done!\")"
   ]
  }
 ],
 "metadata": {
  "kernelspec": {
   "display_name": "hyrax",
   "language": "python",
   "name": "python3"
  },
  "language_info": {
   "codemirror_mode": {
    "name": "ipython",
    "version": 3
   },
   "file_extension": ".py",
   "mimetype": "text/x-python",
   "name": "python",
   "nbconvert_exporter": "python",
   "pygments_lexer": "ipython3",
   "version": "3.12.9"
  }
 },
 "nbformat": 4,
 "nbformat_minor": 5
}
